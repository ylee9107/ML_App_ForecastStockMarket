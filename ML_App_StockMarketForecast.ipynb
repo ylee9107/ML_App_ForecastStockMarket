{
 "cells": [
  {
   "cell_type": "markdown",
   "metadata": {},
   "source": [
    "# ML App to Forecast the Stock Market\n",
    "\n",
    "## Introduction:\n",
    "\n",
    "This project aims to develop a system that examines and tries to forecast the stock market. Stock markets are an interesting entity where the price movement or behaviour at certain times can be attributed to events that occur around the world, which in turns influences the buyers and sellers. Other example that influences the market can be the year-end tax loss sales. This is when traders sell their losses at the end of the year due to the nature of tax laws, leading to a downward price movement. However, when this event/phenomenon has been broadcast, traders then attempts to get ahead of the curve by buying these stocks in late December and selling them to expecting buyers in January. Becasue of this, the effect on the market will then be diluted. Overall it can be said that the price movement are largely influenced by the buyers and sellers themselves and their mentality behind each move. The system will attempt to build and test a trading strategy. \n",
    "\n",
    "## Dataset:\n",
    "\n",
    "Data will be from the S&P 500 avaible from the last few years. The pandas package also allows for stock price data to be obtained, from Yahoo! or Google.\n",
    "\n",
    "## Breakdown of this Project:\n",
    "\n",
    "- Exploring the types of market analysis\n",
    "- Stock Market Research\n",
    "- Develop a trading System\n",
    "\n",
    "\n",
    "# 1 Exploring the types of market analysis:\n",
    "\n",
    "There are many financial instruments such as stocks, bonds, ETFs, FOREX and swaps, however, for this project, it will be limited to stocks and the stock market.\n",
    "\n",
    "Stock: \n",
    "- Is a fractional share of ownership in a public listed company. The stock price is the price for every share.\n",
    "\n",
    "There are also two types of investors, where the first is the fundamental analyst and the second is the technical anayst.\n",
    "\n",
    "Fundamental analyst:\n",
    "- These analyst investigates the company's financials looking for information that indicates if the market is undervaluing the shares. The factors innvestigated are revenue, earnings and cash flow, or types of ratios. Valuation of these comapanies are ususally compared to another.\n",
    "\n",
    "Technical Analyst:\n",
    "- Have a different approach where the analyst believes that the share prices reflects publicaly available infromation. They investigate historical prices (price rise, fall or stagnate) and its movements through time, where it may reveal clues regarding investor psychology.\n",
    "\n",
    "# 2 Stock Market Research:\n",
    "\n",
    "There are three forms mentioned in the efficient market hypothesis and these are called a weak form, a semi-strong form and a strong form. \n",
    "\n",
    "- The Weak Form: is where the market is considered efficient enough that the past information of prices cannot be used to predict future prices. This means that the information is reflected in stocks quickly making technical analysis ineffective and where in somoe scenarios, only fundamental analysis would be effective.\n",
    "\n",
    "- The Semi-strong Form: is where the prices can be seen to immediately reflect relevant new public information circulating. This means that both the technical analysis and fundamental analysis would be ineffective.\n",
    "\n",
    "- The Strong Form: is where the stock prices does reflect all public and private infromation. \n",
    "\n",
    "Overall, the market can be considered to be largely efficient in terms of its operations, However, often the money making opportunities occur when or during distinct intervals of market inefficiency. Such events can sometimes be detected by momentum strategies.\n",
    "\n",
    "## 2.1 Momentum Strategies:\n",
    "\n",
    "Momentum strategies can be summed up as stocks are ranked from the highest down to the lowest according to its return over a prior period. It has been suggested that people then to underreact to news during the short tem and proceed to overreact to news in the long term. This translate to investors failing to increase the prices sufficiently when the stocks are reacting to exceptionally good news and that it takes time for the investors to come around. This tendency can be called the anchoring effect."
   ]
  },
  {
   "cell_type": "markdown",
   "metadata": {},
   "source": [
    "# 3 Import the required Libraries:"
   ]
  },
  {
   "cell_type": "code",
   "execution_count": 1,
   "metadata": {},
   "outputs": [],
   "source": [
    "import pandas as pd\n",
    "import numpy as np\n",
    "from pandas_datareader import data, wb\n",
    "import datetime as datetime\n",
    "\n",
    "import matplotlib.pyplot as plt\n",
    "%matplotlib inline"
   ]
  },
  {
   "cell_type": "code",
   "execution_count": 2,
   "metadata": {},
   "outputs": [],
   "source": [
    "pd.set_option('display.max_colwidth', 200)"
   ]
  },
  {
   "cell_type": "markdown",
   "metadata": {},
   "source": [
    "## "
   ]
  },
  {
   "cell_type": "code",
   "execution_count": null,
   "metadata": {},
   "outputs": [],
   "source": []
  },
  {
   "cell_type": "code",
   "execution_count": null,
   "metadata": {},
   "outputs": [],
   "source": []
  },
  {
   "cell_type": "code",
   "execution_count": null,
   "metadata": {},
   "outputs": [],
   "source": []
  },
  {
   "cell_type": "code",
   "execution_count": null,
   "metadata": {},
   "outputs": [],
   "source": []
  },
  {
   "cell_type": "code",
   "execution_count": null,
   "metadata": {},
   "outputs": [],
   "source": []
  },
  {
   "cell_type": "code",
   "execution_count": null,
   "metadata": {},
   "outputs": [],
   "source": []
  },
  {
   "cell_type": "code",
   "execution_count": null,
   "metadata": {},
   "outputs": [],
   "source": []
  },
  {
   "cell_type": "code",
   "execution_count": null,
   "metadata": {},
   "outputs": [],
   "source": []
  }
 ],
 "metadata": {
  "kernelspec": {
   "display_name": "Python 3",
   "language": "python",
   "name": "python3"
  },
  "language_info": {
   "codemirror_mode": {
    "name": "ipython",
    "version": 3
   },
   "file_extension": ".py",
   "mimetype": "text/x-python",
   "name": "python",
   "nbconvert_exporter": "python",
   "pygments_lexer": "ipython3",
   "version": "3.7.6"
  }
 },
 "nbformat": 4,
 "nbformat_minor": 4
}
